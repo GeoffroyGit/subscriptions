{
 "cells": [
  {
   "cell_type": "code",
   "execution_count": 1,
   "id": "2a37d0df",
   "metadata": {},
   "outputs": [],
   "source": [
    "import pandas as pd\n",
    "import matplotlib.pyplot as plt\n",
    "import seaborn as sns"
   ]
  },
  {
   "cell_type": "markdown",
   "id": "fcd2aa0e",
   "metadata": {},
   "source": [
    "# import data"
   ]
  },
  {
   "cell_type": "code",
   "execution_count": 2,
   "id": "51c8a9d3",
   "metadata": {},
   "outputs": [
    {
     "data": {
      "text/html": [
       "<div>\n",
       "<style scoped>\n",
       "    .dataframe tbody tr th:only-of-type {\n",
       "        vertical-align: middle;\n",
       "    }\n",
       "\n",
       "    .dataframe tbody tr th {\n",
       "        vertical-align: top;\n",
       "    }\n",
       "\n",
       "    .dataframe thead th {\n",
       "        text-align: right;\n",
       "    }\n",
       "</style>\n",
       "<table border=\"1\" class=\"dataframe\">\n",
       "  <thead>\n",
       "    <tr style=\"text-align: right;\">\n",
       "      <th></th>\n",
       "      <th>ACCT_ID</th>\n",
       "      <th>SUBSCRIPTION_BILLABLE_TYPE</th>\n",
       "      <th>SUBSCRIPTION_TYPE</th>\n",
       "      <th>SKU_LENGTH</th>\n",
       "      <th>SUB_STATE</th>\n",
       "      <th>SUB_START_DATE</th>\n",
       "      <th>SUB_END_DATE</th>\n",
       "    </tr>\n",
       "  </thead>\n",
       "  <tbody>\n",
       "    <tr>\n",
       "      <th>0</th>\n",
       "      <td>1.883680e+14</td>\n",
       "      <td>Paid</td>\n",
       "      <td>Wallet</td>\n",
       "      <td>1 month</td>\n",
       "      <td>Reclaim</td>\n",
       "      <td>2020-03-15</td>\n",
       "      <td>2020-04-15</td>\n",
       "    </tr>\n",
       "    <tr>\n",
       "      <th>1</th>\n",
       "      <td>1.883680e+14</td>\n",
       "      <td>Paid</td>\n",
       "      <td>Wallet</td>\n",
       "      <td>1 month</td>\n",
       "      <td>Renewal</td>\n",
       "      <td>2020-04-15</td>\n",
       "      <td>2020-05-15</td>\n",
       "    </tr>\n",
       "    <tr>\n",
       "      <th>2</th>\n",
       "      <td>1.883680e+14</td>\n",
       "      <td>Paid</td>\n",
       "      <td>Wallet</td>\n",
       "      <td>1 month</td>\n",
       "      <td>Renewal</td>\n",
       "      <td>2020-05-16</td>\n",
       "      <td>2020-06-16</td>\n",
       "    </tr>\n",
       "    <tr>\n",
       "      <th>3</th>\n",
       "      <td>1.883680e+14</td>\n",
       "      <td>Paid</td>\n",
       "      <td>Wallet</td>\n",
       "      <td>1 month</td>\n",
       "      <td>Renewal</td>\n",
       "      <td>2020-06-16</td>\n",
       "      <td>2020-07-16</td>\n",
       "    </tr>\n",
       "    <tr>\n",
       "      <th>4</th>\n",
       "      <td>1.883680e+14</td>\n",
       "      <td>Paid</td>\n",
       "      <td>Wallet</td>\n",
       "      <td>1 month</td>\n",
       "      <td>Renewal</td>\n",
       "      <td>2020-07-16</td>\n",
       "      <td>2020-08-16</td>\n",
       "    </tr>\n",
       "  </tbody>\n",
       "</table>\n",
       "</div>"
      ],
      "text/plain": [
       "        ACCT_ID SUBSCRIPTION_BILLABLE_TYPE SUBSCRIPTION_TYPE SKU_LENGTH  \\\n",
       "0  1.883680e+14                       Paid            Wallet    1 month   \n",
       "1  1.883680e+14                       Paid            Wallet    1 month   \n",
       "2  1.883680e+14                       Paid            Wallet    1 month   \n",
       "3  1.883680e+14                       Paid            Wallet    1 month   \n",
       "4  1.883680e+14                       Paid            Wallet    1 month   \n",
       "\n",
       "  SUB_STATE SUB_START_DATE SUB_END_DATE  \n",
       "0   Reclaim     2020-03-15   2020-04-15  \n",
       "1   Renewal     2020-04-15   2020-05-15  \n",
       "2   Renewal     2020-05-16   2020-06-16  \n",
       "3   Renewal     2020-06-16   2020-07-16  \n",
       "4   Renewal     2020-07-16   2020-08-16  "
      ]
     },
     "execution_count": 2,
     "metadata": {},
     "output_type": "execute_result"
    }
   ],
   "source": [
    "# import the data\n",
    "path = \"../data/playstation.csv\"\n",
    "df = pd.read_csv(path)\n",
    "df.head()"
   ]
  },
  {
   "cell_type": "code",
   "execution_count": 3,
   "id": "868ff30c",
   "metadata": {},
   "outputs": [],
   "source": [
    "# change format to datetime\n",
    "df[\"SUB_START_DATE\"] = pd.to_datetime(df[\"SUB_START_DATE\"])\n",
    "df[\"SUB_END_DATE\"] = pd.to_datetime(df[\"SUB_END_DATE\"])"
   ]
  },
  {
   "cell_type": "markdown",
   "id": "28620548",
   "metadata": {},
   "source": [
    "# How many people were on a trial on the 1st of October"
   ]
  },
  {
   "cell_type": "code",
   "execution_count": 4,
   "id": "607036f1",
   "metadata": {},
   "outputs": [
    {
     "data": {
      "image/png": "[encoded data removed]",
      "text/plain": [
       "<Figure size 432x288 with 1 Axes>"
      ]
     },
     "metadata": {
      "needs_background": "light"
     },
     "output_type": "display_data"
    }
   ],
   "source": [
    "sns.histplot(data=df, x=\"SUBSCRIPTION_TYPE\");"
   ]
  },
  {
   "cell_type": "code",
   "execution_count": 5,
   "id": "dca87a4e",
   "metadata": {},
   "outputs": [
    {
     "data": {
      "text/html": [
       "<div>\n",
       "<style scoped>\n",
       "    .dataframe tbody tr th:only-of-type {\n",
       "        vertical-align: middle;\n",
       "    }\n",
       "\n",
       "    .dataframe tbody tr th {\n",
       "        vertical-align: top;\n",
       "    }\n",
       "\n",
       "    .dataframe thead th {\n",
       "        text-align: right;\n",
       "    }\n",
       "</style>\n",
       "<table border=\"1\" class=\"dataframe\">\n",
       "  <thead>\n",
       "    <tr style=\"text-align: right;\">\n",
       "      <th></th>\n",
       "      <th>ACCT_ID</th>\n",
       "      <th>SUBSCRIPTION_BILLABLE_TYPE</th>\n",
       "      <th>SUBSCRIPTION_TYPE</th>\n",
       "      <th>SKU_LENGTH</th>\n",
       "      <th>SUB_STATE</th>\n",
       "      <th>SUB_START_DATE</th>\n",
       "      <th>SUB_END_DATE</th>\n",
       "    </tr>\n",
       "  </thead>\n",
       "  <tbody>\n",
       "    <tr>\n",
       "      <th>9</th>\n",
       "      <td>7.157850e+14</td>\n",
       "      <td>Free</td>\n",
       "      <td>Trial</td>\n",
       "      <td>14 days</td>\n",
       "      <td>Trial</td>\n",
       "      <td>2019-07-02</td>\n",
       "      <td>2019-07-16</td>\n",
       "    </tr>\n",
       "    <tr>\n",
       "      <th>12</th>\n",
       "      <td>2.763320e+14</td>\n",
       "      <td>Free</td>\n",
       "      <td>Trial</td>\n",
       "      <td>14 days</td>\n",
       "      <td>Trial</td>\n",
       "      <td>2020-02-16</td>\n",
       "      <td>2020-03-01</td>\n",
       "    </tr>\n",
       "    <tr>\n",
       "      <th>19</th>\n",
       "      <td>3.930190e+14</td>\n",
       "      <td>Free</td>\n",
       "      <td>Trial</td>\n",
       "      <td>14 days</td>\n",
       "      <td>Trial</td>\n",
       "      <td>2020-08-26</td>\n",
       "      <td>2020-09-09</td>\n",
       "    </tr>\n",
       "    <tr>\n",
       "      <th>20</th>\n",
       "      <td>3.392980e+14</td>\n",
       "      <td>Free</td>\n",
       "      <td>Trial</td>\n",
       "      <td>14 days</td>\n",
       "      <td>Trial</td>\n",
       "      <td>2019-11-02</td>\n",
       "      <td>2019-11-16</td>\n",
       "    </tr>\n",
       "    <tr>\n",
       "      <th>40</th>\n",
       "      <td>3.775590e+14</td>\n",
       "      <td>Free</td>\n",
       "      <td>Trial</td>\n",
       "      <td>14 days</td>\n",
       "      <td>Trial</td>\n",
       "      <td>2020-08-04</td>\n",
       "      <td>2020-08-18</td>\n",
       "    </tr>\n",
       "  </tbody>\n",
       "</table>\n",
       "</div>"
      ],
      "text/plain": [
       "         ACCT_ID SUBSCRIPTION_BILLABLE_TYPE SUBSCRIPTION_TYPE SKU_LENGTH  \\\n",
       "9   7.157850e+14                       Free             Trial    14 days   \n",
       "12  2.763320e+14                       Free             Trial    14 days   \n",
       "19  3.930190e+14                       Free             Trial    14 days   \n",
       "20  3.392980e+14                       Free             Trial    14 days   \n",
       "40  3.775590e+14                       Free             Trial    14 days   \n",
       "\n",
       "   SUB_STATE SUB_START_DATE SUB_END_DATE  \n",
       "9      Trial     2019-07-02   2019-07-16  \n",
       "12     Trial     2020-02-16   2020-03-01  \n",
       "19     Trial     2020-08-26   2020-09-09  \n",
       "20     Trial     2019-11-02   2019-11-16  \n",
       "40     Trial     2020-08-04   2020-08-18  "
      ]
     },
     "execution_count": 5,
     "metadata": {},
     "output_type": "execute_result"
    }
   ],
   "source": [
    "df_trial = df[df[\"SUBSCRIPTION_TYPE\"] == \"Trial\"]\n",
    "df_trial.head()"
   ]
  },
  {
   "cell_type": "code",
   "execution_count": 6,
   "id": "45f661d4",
   "metadata": {},
   "outputs": [
    {
     "data": {
      "image/png": "[encoded data removed]",
      "text/plain": [
       "<Figure size 1080x288 with 1 Axes>"
      ]
     },
     "metadata": {
      "needs_background": "light"
     },
     "output_type": "display_data"
    }
   ],
   "source": [
    "plt.figure(figsize=(15,4))\n",
    "sns.histplot(data=df_trial, x=\"SUB_START_DATE\");"
   ]
  },
  {
   "cell_type": "code",
   "execution_count": 7,
   "id": "652163e9",
   "metadata": {},
   "outputs": [
    {
     "data": {
      "text/html": [
       "<div>\n",
       "<style scoped>\n",
       "    .dataframe tbody tr th:only-of-type {\n",
       "        vertical-align: middle;\n",
       "    }\n",
       "\n",
       "    .dataframe tbody tr th {\n",
       "        vertical-align: top;\n",
       "    }\n",
       "\n",
       "    .dataframe thead th {\n",
       "        text-align: right;\n",
       "    }\n",
       "</style>\n",
       "<table border=\"1\" class=\"dataframe\">\n",
       "  <thead>\n",
       "    <tr style=\"text-align: right;\">\n",
       "      <th></th>\n",
       "      <th>ACCT_ID</th>\n",
       "      <th>SUBSCRIPTION_BILLABLE_TYPE</th>\n",
       "      <th>SUBSCRIPTION_TYPE</th>\n",
       "      <th>SKU_LENGTH</th>\n",
       "      <th>SUB_STATE</th>\n",
       "      <th>SUB_START_DATE</th>\n",
       "      <th>SUB_END_DATE</th>\n",
       "    </tr>\n",
       "  </thead>\n",
       "  <tbody>\n",
       "    <tr>\n",
       "      <th>630</th>\n",
       "      <td>2.263220e+14</td>\n",
       "      <td>Free</td>\n",
       "      <td>Trial</td>\n",
       "      <td>14 days</td>\n",
       "      <td>Trial</td>\n",
       "      <td>2019-09-25</td>\n",
       "      <td>2019-10-09</td>\n",
       "    </tr>\n",
       "    <tr>\n",
       "      <th>868</th>\n",
       "      <td>6.588970e+14</td>\n",
       "      <td>Free</td>\n",
       "      <td>Trial</td>\n",
       "      <td>14 days</td>\n",
       "      <td>Trial</td>\n",
       "      <td>2019-09-30</td>\n",
       "      <td>2019-10-14</td>\n",
       "    </tr>\n",
       "    <tr>\n",
       "      <th>977</th>\n",
       "      <td>1.960290e+14</td>\n",
       "      <td>Free</td>\n",
       "      <td>Trial</td>\n",
       "      <td>14 days</td>\n",
       "      <td>Trial</td>\n",
       "      <td>2019-09-19</td>\n",
       "      <td>2019-10-03</td>\n",
       "    </tr>\n",
       "    <tr>\n",
       "      <th>2223</th>\n",
       "      <td>7.000940e+14</td>\n",
       "      <td>Free</td>\n",
       "      <td>Trial</td>\n",
       "      <td>14 days</td>\n",
       "      <td>Trial</td>\n",
       "      <td>2019-10-01</td>\n",
       "      <td>2019-10-15</td>\n",
       "    </tr>\n",
       "    <tr>\n",
       "      <th>3002</th>\n",
       "      <td>6.082880e+14</td>\n",
       "      <td>Free</td>\n",
       "      <td>Trial</td>\n",
       "      <td>14 days</td>\n",
       "      <td>Trial</td>\n",
       "      <td>2020-09-29</td>\n",
       "      <td>2020-10-13</td>\n",
       "    </tr>\n",
       "  </tbody>\n",
       "</table>\n",
       "</div>"
      ],
      "text/plain": [
       "           ACCT_ID SUBSCRIPTION_BILLABLE_TYPE SUBSCRIPTION_TYPE SKU_LENGTH  \\\n",
       "630   2.263220e+14                       Free             Trial    14 days   \n",
       "868   6.588970e+14                       Free             Trial    14 days   \n",
       "977   1.960290e+14                       Free             Trial    14 days   \n",
       "2223  7.000940e+14                       Free             Trial    14 days   \n",
       "3002  6.082880e+14                       Free             Trial    14 days   \n",
       "\n",
       "     SUB_STATE SUB_START_DATE SUB_END_DATE  \n",
       "630      Trial     2019-09-25   2019-10-09  \n",
       "868      Trial     2019-09-30   2019-10-14  \n",
       "977      Trial     2019-09-19   2019-10-03  \n",
       "2223     Trial     2019-10-01   2019-10-15  \n",
       "3002     Trial     2020-09-29   2020-10-13  "
      ]
     },
     "execution_count": 7,
     "metadata": {},
     "output_type": "execute_result"
    }
   ],
   "source": [
    "mask = ((df_trial[\"SUB_START_DATE\"] <= pd.to_datetime(\"2019-10-01\")) & \\\n",
    "           (df_trial[\"SUB_END_DATE\"] >= pd.to_datetime(\"2019-10-01\"))) | \\\n",
    "       ((df_trial[\"SUB_START_DATE\"] <= pd.to_datetime(\"2020-10-01\")) & \\\n",
    "           (df_trial[\"SUB_END_DATE\"] >= pd.to_datetime(\"2020-10-01\")))\n",
    "\n",
    "df_trial = df_trial[mask]\n",
    "\n",
    "df_trial.head()"
   ]
  },
  {
   "cell_type": "code",
   "execution_count": 8,
   "id": "975a47be",
   "metadata": {},
   "outputs": [
    {
     "data": {
      "text/plain": [
       "92"
      ]
     },
     "execution_count": 8,
     "metadata": {},
     "output_type": "execute_result"
    }
   ],
   "source": [
    "len(df_trial)"
   ]
  },
  {
   "cell_type": "code",
   "execution_count": 9,
   "id": "cb24aa23",
   "metadata": {},
   "outputs": [
    {
     "name": "stdout",
     "output_type": "stream",
     "text": [
      "There was 92 people on trial plan on October first 2019 and 2020\n"
     ]
    }
   ],
   "source": [
    "print(f\"There was {len(df_trial)} people on trial plan on October first 2019 and 2020\")"
   ]
  },
  {
   "cell_type": "code",
   "execution_count": 10,
   "id": "41aeea43",
   "metadata": {},
   "outputs": [],
   "source": [
    "# This feels like a school exercice, I'm not having fun :-("
   ]
  }
 ],
 "metadata": {
  "kernelspec": {
   "display_name": "Python 3 (ipykernel)",
   "language": "python",
   "name": "python3"
  },
  "language_info": {
   "codemirror_mode": {
    "name": "ipython",
    "version": 3
   },
   "file_extension": ".py",
   "mimetype": "text/x-python",
   "name": "python",
   "nbconvert_exporter": "python",
   "pygments_lexer": "ipython3",
   "version": "3.8.12"
  },
  "toc": {
   "base_numbering": 1,
   "nav_menu": {},
   "number_sections": true,
   "sideBar": true,
   "skip_h1_title": false,
   "title_cell": "Table of Contents",
   "title_sidebar": "Contents",
   "toc_cell": false,
   "toc_position": {},
   "toc_section_display": true,
   "toc_window_display": false
  },
  "varInspector": {
   "cols": {
    "lenName": 16,
    "lenType": 16,
    "lenVar": 40
   },
   "kernels_config": {
    "python": {
     "delete_cmd_postfix": "",
     "delete_cmd_prefix": "del ",
     "library": "var_list.py",
     "varRefreshCmd": "print(var_dic_list())"
    },
    "r": {
     "delete_cmd_postfix": ") ",
     "delete_cmd_prefix": "rm(",
     "library": "var_list.r",
     "varRefreshCmd": "cat(var_dic_list()) "
    }
   },
   "types_to_exclude": [
    "module",
    "function",
    "builtin_function_or_method",
    "instance",
    "_Feature"
   ],
   "window_display": false
  }
 },
 "nbformat": 4,
 "nbformat_minor": 5
}
