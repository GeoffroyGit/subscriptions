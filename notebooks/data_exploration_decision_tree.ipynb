{
 "cells": [
  {
   "cell_type": "code",
   "execution_count": 1,
   "id": "3e3b169d",
   "metadata": {},
   "outputs": [],
   "source": [
    "import pandas as pd\n",
    "import matplotlib.pyplot as plt\n",
    "import seaborn as sns\n",
    "from sklearn.tree import DecisionTreeClassifier\n",
    "from sklearn.pipeline import make_pipeline\n",
    "from sklearn.preprocessing import OneHotEncoder, LabelEncoder\n",
    "\n",
    "import graphviz\n",
    "from sklearn.tree import export_graphviz"
   ]
  },
  {
   "cell_type": "markdown",
   "id": "70d6b0c1",
   "metadata": {},
   "source": [
    "# import data"
   ]
  },
  {
   "cell_type": "code",
   "execution_count": 2,
   "id": "bbd2d304",
   "metadata": {},
   "outputs": [
    {
     "data": {
      "text/html": [
       "<div>\n",
       "<style scoped>\n",
       "    .dataframe tbody tr th:only-of-type {\n",
       "        vertical-align: middle;\n",
       "    }\n",
       "\n",
       "    .dataframe tbody tr th {\n",
       "        vertical-align: top;\n",
       "    }\n",
       "\n",
       "    .dataframe thead th {\n",
       "        text-align: right;\n",
       "    }\n",
       "</style>\n",
       "<table border=\"1\" class=\"dataframe\">\n",
       "  <thead>\n",
       "    <tr style=\"text-align: right;\">\n",
       "      <th></th>\n",
       "      <th>ACCT_ID</th>\n",
       "      <th>SUBSCRIPTION_BILLABLE_TYPE</th>\n",
       "      <th>SUBSCRIPTION_TYPE</th>\n",
       "      <th>SKU_LENGTH</th>\n",
       "      <th>SUB_STATE</th>\n",
       "      <th>SUB_START_DATE</th>\n",
       "      <th>SUB_END_DATE</th>\n",
       "    </tr>\n",
       "  </thead>\n",
       "  <tbody>\n",
       "    <tr>\n",
       "      <th>0</th>\n",
       "      <td>1.883680e+14</td>\n",
       "      <td>Paid</td>\n",
       "      <td>Wallet</td>\n",
       "      <td>1 month</td>\n",
       "      <td>Reclaim</td>\n",
       "      <td>2020-03-15</td>\n",
       "      <td>2020-04-15</td>\n",
       "    </tr>\n",
       "    <tr>\n",
       "      <th>1</th>\n",
       "      <td>1.883680e+14</td>\n",
       "      <td>Paid</td>\n",
       "      <td>Wallet</td>\n",
       "      <td>1 month</td>\n",
       "      <td>Renewal</td>\n",
       "      <td>2020-04-15</td>\n",
       "      <td>2020-05-15</td>\n",
       "    </tr>\n",
       "    <tr>\n",
       "      <th>2</th>\n",
       "      <td>1.883680e+14</td>\n",
       "      <td>Paid</td>\n",
       "      <td>Wallet</td>\n",
       "      <td>1 month</td>\n",
       "      <td>Renewal</td>\n",
       "      <td>2020-05-16</td>\n",
       "      <td>2020-06-16</td>\n",
       "    </tr>\n",
       "    <tr>\n",
       "      <th>3</th>\n",
       "      <td>1.883680e+14</td>\n",
       "      <td>Paid</td>\n",
       "      <td>Wallet</td>\n",
       "      <td>1 month</td>\n",
       "      <td>Renewal</td>\n",
       "      <td>2020-06-16</td>\n",
       "      <td>2020-07-16</td>\n",
       "    </tr>\n",
       "    <tr>\n",
       "      <th>4</th>\n",
       "      <td>1.883680e+14</td>\n",
       "      <td>Paid</td>\n",
       "      <td>Wallet</td>\n",
       "      <td>1 month</td>\n",
       "      <td>Renewal</td>\n",
       "      <td>2020-07-16</td>\n",
       "      <td>2020-08-16</td>\n",
       "    </tr>\n",
       "  </tbody>\n",
       "</table>\n",
       "</div>"
      ],
      "text/plain": [
       "        ACCT_ID SUBSCRIPTION_BILLABLE_TYPE SUBSCRIPTION_TYPE SKU_LENGTH  \\\n",
       "0  1.883680e+14                       Paid            Wallet    1 month   \n",
       "1  1.883680e+14                       Paid            Wallet    1 month   \n",
       "2  1.883680e+14                       Paid            Wallet    1 month   \n",
       "3  1.883680e+14                       Paid            Wallet    1 month   \n",
       "4  1.883680e+14                       Paid            Wallet    1 month   \n",
       "\n",
       "  SUB_STATE SUB_START_DATE SUB_END_DATE  \n",
       "0   Reclaim     2020-03-15   2020-04-15  \n",
       "1   Renewal     2020-04-15   2020-05-15  \n",
       "2   Renewal     2020-05-16   2020-06-16  \n",
       "3   Renewal     2020-06-16   2020-07-16  \n",
       "4   Renewal     2020-07-16   2020-08-16  "
      ]
     },
     "execution_count": 2,
     "metadata": {},
     "output_type": "execute_result"
    }
   ],
   "source": [
    "# import the data\n",
    "path = \"../data/playstation.csv\"\n",
    "df = pd.read_csv(path)\n",
    "df.head()"
   ]
  },
  {
   "cell_type": "markdown",
   "id": "b29cebaf",
   "metadata": {},
   "source": [
    "# clean data"
   ]
  },
  {
   "cell_type": "code",
   "execution_count": 3,
   "id": "53784af5",
   "metadata": {},
   "outputs": [
    {
     "name": "stdout",
     "output_type": "stream",
     "text": [
      "<class 'pandas.core.frame.DataFrame'>\n",
      "RangeIndex: 28261 entries, 0 to 28260\n",
      "Data columns (total 7 columns):\n",
      " #   Column                      Non-Null Count  Dtype         \n",
      "---  ------                      --------------  -----         \n",
      " 0   ACCT_ID                     28261 non-null  float64       \n",
      " 1   SUBSCRIPTION_BILLABLE_TYPE  28261 non-null  object        \n",
      " 2   SUBSCRIPTION_TYPE           28261 non-null  object        \n",
      " 3   SKU_LENGTH                  28261 non-null  object        \n",
      " 4   SUB_STATE                   28261 non-null  object        \n",
      " 5   SUB_START_DATE              28261 non-null  datetime64[ns]\n",
      " 6   SUB_END_DATE                28261 non-null  datetime64[ns]\n",
      "dtypes: datetime64[ns](2), float64(1), object(4)\n",
      "memory usage: 1.5+ MB\n"
     ]
    }
   ],
   "source": [
    "# change format to datetime\n",
    "df[\"SUB_START_DATE\"] = pd.to_datetime(df[\"SUB_START_DATE\"])\n",
    "df[\"SUB_END_DATE\"] = pd.to_datetime(df[\"SUB_END_DATE\"])\n",
    "df.info()"
   ]
  },
  {
   "cell_type": "markdown",
   "id": "d7df3bba",
   "metadata": {},
   "source": [
    "# reclaim vs renewal"
   ]
  },
  {
   "cell_type": "code",
   "execution_count": 4,
   "id": "02568c13",
   "metadata": {},
   "outputs": [
    {
     "data": {
      "text/html": [
       "<div>\n",
       "<style scoped>\n",
       "    .dataframe tbody tr th:only-of-type {\n",
       "        vertical-align: middle;\n",
       "    }\n",
       "\n",
       "    .dataframe tbody tr th {\n",
       "        vertical-align: top;\n",
       "    }\n",
       "\n",
       "    .dataframe thead th {\n",
       "        text-align: right;\n",
       "    }\n",
       "</style>\n",
       "<table border=\"1\" class=\"dataframe\">\n",
       "  <thead>\n",
       "    <tr style=\"text-align: right;\">\n",
       "      <th></th>\n",
       "      <th>ACCT_ID</th>\n",
       "      <th>SUBSCRIPTION_BILLABLE_TYPE</th>\n",
       "      <th>SUBSCRIPTION_TYPE</th>\n",
       "      <th>SKU_LENGTH</th>\n",
       "      <th>SUB_STATE</th>\n",
       "      <th>SUB_START_DATE</th>\n",
       "      <th>SUB_END_DATE</th>\n",
       "      <th>SUB_END_DATE_PREVIOUS</th>\n",
       "      <th>ACCT_ID_PREVIOUS</th>\n",
       "      <th>same_id</th>\n",
       "      <th>delay</th>\n",
       "      <th>delay_days</th>\n",
       "      <th>sub_len</th>\n",
       "      <th>sub_len_days</th>\n",
       "    </tr>\n",
       "  </thead>\n",
       "  <tbody>\n",
       "    <tr>\n",
       "      <th>25307</th>\n",
       "      <td>1.000400e+14</td>\n",
       "      <td>Paid</td>\n",
       "      <td>Wallet</td>\n",
       "      <td>1 month</td>\n",
       "      <td>Renewal</td>\n",
       "      <td>2020-04-25</td>\n",
       "      <td>2020-05-25</td>\n",
       "      <td>2020-04-25</td>\n",
       "      <td>1.000400e+14</td>\n",
       "      <td>True</td>\n",
       "      <td>0 days</td>\n",
       "      <td>0.0</td>\n",
       "      <td>30 days</td>\n",
       "      <td>30</td>\n",
       "    </tr>\n",
       "    <tr>\n",
       "      <th>12907</th>\n",
       "      <td>1.001900e+14</td>\n",
       "      <td>Paid</td>\n",
       "      <td>Wallet</td>\n",
       "      <td>12 months</td>\n",
       "      <td>Renewal</td>\n",
       "      <td>2019-07-30</td>\n",
       "      <td>2020-07-30</td>\n",
       "      <td>2019-07-27</td>\n",
       "      <td>1.001900e+14</td>\n",
       "      <td>True</td>\n",
       "      <td>-3 days</td>\n",
       "      <td>-3.0</td>\n",
       "      <td>366 days</td>\n",
       "      <td>366</td>\n",
       "    </tr>\n",
       "    <tr>\n",
       "      <th>12908</th>\n",
       "      <td>1.001900e+14</td>\n",
       "      <td>Paid</td>\n",
       "      <td>Wallet</td>\n",
       "      <td>12 months</td>\n",
       "      <td>Renewal</td>\n",
       "      <td>2020-07-30</td>\n",
       "      <td>2021-07-30</td>\n",
       "      <td>2020-07-30</td>\n",
       "      <td>1.001900e+14</td>\n",
       "      <td>True</td>\n",
       "      <td>0 days</td>\n",
       "      <td>0.0</td>\n",
       "      <td>365 days</td>\n",
       "      <td>365</td>\n",
       "    </tr>\n",
       "    <tr>\n",
       "      <th>6999</th>\n",
       "      <td>1.003400e+14</td>\n",
       "      <td>Paid</td>\n",
       "      <td>Wallet</td>\n",
       "      <td>1 month</td>\n",
       "      <td>Reclaim</td>\n",
       "      <td>2019-08-11</td>\n",
       "      <td>2019-09-11</td>\n",
       "      <td>2019-07-14</td>\n",
       "      <td>1.003400e+14</td>\n",
       "      <td>True</td>\n",
       "      <td>-28 days</td>\n",
       "      <td>-28.0</td>\n",
       "      <td>31 days</td>\n",
       "      <td>31</td>\n",
       "    </tr>\n",
       "    <tr>\n",
       "      <th>7000</th>\n",
       "      <td>1.003400e+14</td>\n",
       "      <td>Paid</td>\n",
       "      <td>Wallet</td>\n",
       "      <td>1 month</td>\n",
       "      <td>Reclaim</td>\n",
       "      <td>2019-11-09</td>\n",
       "      <td>2019-12-09</td>\n",
       "      <td>2019-09-11</td>\n",
       "      <td>1.003400e+14</td>\n",
       "      <td>True</td>\n",
       "      <td>-59 days</td>\n",
       "      <td>-59.0</td>\n",
       "      <td>30 days</td>\n",
       "      <td>30</td>\n",
       "    </tr>\n",
       "  </tbody>\n",
       "</table>\n",
       "</div>"
      ],
      "text/plain": [
       "            ACCT_ID SUBSCRIPTION_BILLABLE_TYPE SUBSCRIPTION_TYPE SKU_LENGTH  \\\n",
       "25307  1.000400e+14                       Paid            Wallet    1 month   \n",
       "12907  1.001900e+14                       Paid            Wallet  12 months   \n",
       "12908  1.001900e+14                       Paid            Wallet  12 months   \n",
       "6999   1.003400e+14                       Paid            Wallet    1 month   \n",
       "7000   1.003400e+14                       Paid            Wallet    1 month   \n",
       "\n",
       "      SUB_STATE SUB_START_DATE SUB_END_DATE SUB_END_DATE_PREVIOUS  \\\n",
       "25307   Renewal     2020-04-25   2020-05-25            2020-04-25   \n",
       "12907   Renewal     2019-07-30   2020-07-30            2019-07-27   \n",
       "12908   Renewal     2020-07-30   2021-07-30            2020-07-30   \n",
       "6999    Reclaim     2019-08-11   2019-09-11            2019-07-14   \n",
       "7000    Reclaim     2019-11-09   2019-12-09            2019-09-11   \n",
       "\n",
       "       ACCT_ID_PREVIOUS  same_id    delay  delay_days  sub_len  sub_len_days  \n",
       "25307      1.000400e+14     True   0 days         0.0  30 days            30  \n",
       "12907      1.001900e+14     True  -3 days        -3.0 366 days           366  \n",
       "12908      1.001900e+14     True   0 days         0.0 365 days           365  \n",
       "6999       1.003400e+14     True -28 days       -28.0  31 days            31  \n",
       "7000       1.003400e+14     True -59 days       -59.0  30 days            30  "
      ]
     },
     "execution_count": 4,
     "metadata": {},
     "output_type": "execute_result"
    }
   ],
   "source": [
    "df_sorted = df.sort_values(by=[\"ACCT_ID\", \"SUB_START_DATE\"])\n",
    "df_sorted[\"SUB_END_DATE_PREVIOUS\"] = df_sorted[\"SUB_END_DATE\"].shift(1)\n",
    "df_sorted[\"ACCT_ID_PREVIOUS\"] = df_sorted[\"ACCT_ID\"].shift(1)\n",
    "df_sorted[\"same_id\"] = df_sorted[\"ACCT_ID_PREVIOUS\"] == df_sorted[\"ACCT_ID\"]\n",
    "df_sorted[\"delay\"] = df_sorted[\"SUB_END_DATE_PREVIOUS\"] - df_sorted[\"SUB_START_DATE\"]\n",
    "df_sorted[\"delay_days\"] = df_sorted[\"delay\"].dt.days\n",
    "df_sorted[\"sub_len\"] = df_sorted[\"SUB_END_DATE\"] - df_sorted[\"SUB_START_DATE\"]\n",
    "df_sorted[\"sub_len_days\"] = df_sorted[\"sub_len\"].dt.days\n",
    "\n",
    "df_sorted_sub = df_sorted[df_sorted[\"SUB_STATE\"].isin([\"Reclaim\", \"Renewal\"])]\n",
    "df_sorted_sub = df_sorted_sub[df_sorted_sub[\"same_id\"]]\n",
    "df_sorted_sub.head()"
   ]
  },
  {
   "cell_type": "code",
   "execution_count": 5,
   "id": "ef4d1357",
   "metadata": {},
   "outputs": [
    {
     "data": {
      "text/html": [
       "<div>\n",
       "<style scoped>\n",
       "    .dataframe tbody tr th:only-of-type {\n",
       "        vertical-align: middle;\n",
       "    }\n",
       "\n",
       "    .dataframe tbody tr th {\n",
       "        vertical-align: top;\n",
       "    }\n",
       "\n",
       "    .dataframe thead th {\n",
       "        text-align: right;\n",
       "    }\n",
       "</style>\n",
       "<table border=\"1\" class=\"dataframe\">\n",
       "  <thead>\n",
       "    <tr style=\"text-align: right;\">\n",
       "      <th></th>\n",
       "      <th>SUB_STATE</th>\n",
       "      <th>SUBSCRIPTION_TYPE</th>\n",
       "      <th>delay_days</th>\n",
       "      <th>SKU_LENGTH</th>\n",
       "    </tr>\n",
       "  </thead>\n",
       "  <tbody>\n",
       "    <tr>\n",
       "      <th>25307</th>\n",
       "      <td>Renewal</td>\n",
       "      <td>Wallet</td>\n",
       "      <td>0.0</td>\n",
       "      <td>1 month</td>\n",
       "    </tr>\n",
       "    <tr>\n",
       "      <th>12907</th>\n",
       "      <td>Renewal</td>\n",
       "      <td>Wallet</td>\n",
       "      <td>-3.0</td>\n",
       "      <td>12 months</td>\n",
       "    </tr>\n",
       "    <tr>\n",
       "      <th>12908</th>\n",
       "      <td>Renewal</td>\n",
       "      <td>Wallet</td>\n",
       "      <td>0.0</td>\n",
       "      <td>12 months</td>\n",
       "    </tr>\n",
       "    <tr>\n",
       "      <th>6999</th>\n",
       "      <td>Reclaim</td>\n",
       "      <td>Wallet</td>\n",
       "      <td>-28.0</td>\n",
       "      <td>1 month</td>\n",
       "    </tr>\n",
       "    <tr>\n",
       "      <th>7000</th>\n",
       "      <td>Reclaim</td>\n",
       "      <td>Wallet</td>\n",
       "      <td>-59.0</td>\n",
       "      <td>1 month</td>\n",
       "    </tr>\n",
       "  </tbody>\n",
       "</table>\n",
       "</div>"
      ],
      "text/plain": [
       "      SUB_STATE SUBSCRIPTION_TYPE  delay_days SKU_LENGTH\n",
       "25307   Renewal            Wallet         0.0    1 month\n",
       "12907   Renewal            Wallet        -3.0  12 months\n",
       "12908   Renewal            Wallet         0.0  12 months\n",
       "6999    Reclaim            Wallet       -28.0    1 month\n",
       "7000    Reclaim            Wallet       -59.0    1 month"
      ]
     },
     "execution_count": 5,
     "metadata": {},
     "output_type": "execute_result"
    }
   ],
   "source": [
    "df_sorted_sub_sub = df_sorted_sub[[\n",
    "    \"SUB_STATE\",\n",
    "    #\"SUBSCRIPTION_BILLABLE_TYPE\", # all equal to \"paid\" anyway\n",
    "    \"SUBSCRIPTION_TYPE\",\n",
    "    \"delay_days\",\n",
    "    \"SKU_LENGTH\"\n",
    "]]\n",
    "df_sorted_sub_sub.head()"
   ]
  },
  {
   "cell_type": "code",
   "execution_count": 6,
   "id": "3c92b289",
   "metadata": {},
   "outputs": [
    {
     "data": {
      "image/png": "[encoded data removed]",
      "text/plain": [
       "<Figure size 432x288 with 1 Axes>"
      ]
     },
     "metadata": {
      "needs_background": "light"
     },
     "output_type": "display_data"
    }
   ],
   "source": [
    "sns.histplot(data=df_sorted_sub_sub, x=\"delay_days\", hue=\"SUB_STATE\");"
   ]
  },
  {
   "cell_type": "code",
   "execution_count": 7,
   "id": "7770be8a",
   "metadata": {},
   "outputs": [
    {
     "data": {
      "image/png": "[encoded data removed]",
      "text/plain": [
       "<Figure size 432x288 with 1 Axes>"
      ]
     },
     "metadata": {
      "needs_background": "light"
     },
     "output_type": "display_data"
    }
   ],
   "source": [
    "sns.histplot(data=df_sorted_sub_sub, x=\"SKU_LENGTH\", hue=\"SUB_STATE\");"
   ]
  },
  {
   "cell_type": "markdown",
   "id": "acd0fa62",
   "metadata": {},
   "source": [
    "## make a tree to find criteria"
   ]
  },
  {
   "cell_type": "code",
   "execution_count": 8,
   "id": "34961091",
   "metadata": {},
   "outputs": [],
   "source": [
    "X = df_sorted_sub_sub.drop(columns=\"SUB_STATE\")\n",
    "y = df_sorted_sub_sub[\"SUB_STATE\"]"
   ]
  },
  {
   "cell_type": "code",
   "execution_count": 9,
   "id": "81d5d643",
   "metadata": {},
   "outputs": [
    {
     "data": {
      "text/plain": [
       "25307    Renewal\n",
       "12907    Renewal\n",
       "12908    Renewal\n",
       "6999     Reclaim\n",
       "7000     Reclaim\n",
       "Name: SUB_STATE, dtype: object"
      ]
     },
     "execution_count": 9,
     "metadata": {},
     "output_type": "execute_result"
    }
   ],
   "source": [
    "y.head()"
   ]
  },
  {
   "cell_type": "code",
   "execution_count": 10,
   "id": "a7428aa0",
   "metadata": {},
   "outputs": [],
   "source": [
    "encoder = LabelEncoder()\n",
    "y = encoder.fit_transform(y)"
   ]
  },
  {
   "cell_type": "code",
   "execution_count": 11,
   "id": "911a60de",
   "metadata": {},
   "outputs": [
    {
     "data": {
      "text/html": [
       "<div>\n",
       "<style scoped>\n",
       "    .dataframe tbody tr th:only-of-type {\n",
       "        vertical-align: middle;\n",
       "    }\n",
       "\n",
       "    .dataframe tbody tr th {\n",
       "        vertical-align: top;\n",
       "    }\n",
       "\n",
       "    .dataframe thead th {\n",
       "        text-align: right;\n",
       "    }\n",
       "</style>\n",
       "<table border=\"1\" class=\"dataframe\">\n",
       "  <thead>\n",
       "    <tr style=\"text-align: right;\">\n",
       "      <th></th>\n",
       "      <th>SUBSCRIPTION_TYPE</th>\n",
       "      <th>delay_days</th>\n",
       "      <th>SKU_LENGTH</th>\n",
       "    </tr>\n",
       "  </thead>\n",
       "  <tbody>\n",
       "    <tr>\n",
       "      <th>25307</th>\n",
       "      <td>Wallet</td>\n",
       "      <td>0.0</td>\n",
       "      <td>1 month</td>\n",
       "    </tr>\n",
       "    <tr>\n",
       "      <th>12907</th>\n",
       "      <td>Wallet</td>\n",
       "      <td>-3.0</td>\n",
       "      <td>12 months</td>\n",
       "    </tr>\n",
       "    <tr>\n",
       "      <th>12908</th>\n",
       "      <td>Wallet</td>\n",
       "      <td>0.0</td>\n",
       "      <td>12 months</td>\n",
       "    </tr>\n",
       "    <tr>\n",
       "      <th>6999</th>\n",
       "      <td>Wallet</td>\n",
       "      <td>-28.0</td>\n",
       "      <td>1 month</td>\n",
       "    </tr>\n",
       "    <tr>\n",
       "      <th>7000</th>\n",
       "      <td>Wallet</td>\n",
       "      <td>-59.0</td>\n",
       "      <td>1 month</td>\n",
       "    </tr>\n",
       "  </tbody>\n",
       "</table>\n",
       "</div>"
      ],
      "text/plain": [
       "      SUBSCRIPTION_TYPE  delay_days SKU_LENGTH\n",
       "25307            Wallet         0.0    1 month\n",
       "12907            Wallet        -3.0  12 months\n",
       "12908            Wallet         0.0  12 months\n",
       "6999             Wallet       -28.0    1 month\n",
       "7000             Wallet       -59.0    1 month"
      ]
     },
     "execution_count": 11,
     "metadata": {},
     "output_type": "execute_result"
    }
   ],
   "source": [
    "X.head()"
   ]
  },
  {
   "cell_type": "code",
   "execution_count": 12,
   "id": "91fe4e6c",
   "metadata": {},
   "outputs": [
    {
     "data": {
      "text/plain": [
       "array(['Wallet', 'Retail'], dtype=object)"
      ]
     },
     "execution_count": 12,
     "metadata": {},
     "output_type": "execute_result"
    }
   ],
   "source": [
    "X[\"SUBSCRIPTION_TYPE\"].unique()"
   ]
  },
  {
   "cell_type": "code",
   "execution_count": 13,
   "id": "0d73d3e7",
   "metadata": {},
   "outputs": [
    {
     "data": {
      "text/html": [
       "<div>\n",
       "<style scoped>\n",
       "    .dataframe tbody tr th:only-of-type {\n",
       "        vertical-align: middle;\n",
       "    }\n",
       "\n",
       "    .dataframe tbody tr th {\n",
       "        vertical-align: top;\n",
       "    }\n",
       "\n",
       "    .dataframe thead th {\n",
       "        text-align: right;\n",
       "    }\n",
       "</style>\n",
       "<table border=\"1\" class=\"dataframe\">\n",
       "  <thead>\n",
       "    <tr style=\"text-align: right;\">\n",
       "      <th></th>\n",
       "      <th>delay_days</th>\n",
       "      <th>SKU_LENGTH</th>\n",
       "      <th>sub_type</th>\n",
       "    </tr>\n",
       "  </thead>\n",
       "  <tbody>\n",
       "    <tr>\n",
       "      <th>25307</th>\n",
       "      <td>0.0</td>\n",
       "      <td>1 month</td>\n",
       "      <td>0</td>\n",
       "    </tr>\n",
       "    <tr>\n",
       "      <th>12907</th>\n",
       "      <td>-3.0</td>\n",
       "      <td>12 months</td>\n",
       "      <td>0</td>\n",
       "    </tr>\n",
       "    <tr>\n",
       "      <th>12908</th>\n",
       "      <td>0.0</td>\n",
       "      <td>12 months</td>\n",
       "      <td>0</td>\n",
       "    </tr>\n",
       "    <tr>\n",
       "      <th>6999</th>\n",
       "      <td>-28.0</td>\n",
       "      <td>1 month</td>\n",
       "      <td>0</td>\n",
       "    </tr>\n",
       "    <tr>\n",
       "      <th>7000</th>\n",
       "      <td>-59.0</td>\n",
       "      <td>1 month</td>\n",
       "      <td>0</td>\n",
       "    </tr>\n",
       "  </tbody>\n",
       "</table>\n",
       "</div>"
      ],
      "text/plain": [
       "       delay_days SKU_LENGTH  sub_type\n",
       "25307         0.0    1 month         0\n",
       "12907        -3.0  12 months         0\n",
       "12908         0.0  12 months         0\n",
       "6999        -28.0    1 month         0\n",
       "7000        -59.0    1 month         0"
      ]
     },
     "execution_count": 13,
     "metadata": {},
     "output_type": "execute_result"
    }
   ],
   "source": [
    "X[\"sub_type\"] = X[\"SUBSCRIPTION_TYPE\"].apply(lambda x: 0 if x == \"Wallet\" else 1)\n",
    "X.drop(columns=\"SUBSCRIPTION_TYPE\", inplace=True)\n",
    "X.head()"
   ]
  },
  {
   "cell_type": "code",
   "execution_count": 14,
   "id": "cfb349e9",
   "metadata": {},
   "outputs": [
    {
     "data": {
      "text/plain": [
       "array(['1 month', '12 months', '3 months'], dtype=object)"
      ]
     },
     "execution_count": 14,
     "metadata": {},
     "output_type": "execute_result"
    }
   ],
   "source": [
    "X[\"SKU_LENGTH\"].unique()"
   ]
  },
  {
   "cell_type": "code",
   "execution_count": 15,
   "id": "3129416b",
   "metadata": {},
   "outputs": [
    {
     "data": {
      "text/html": [
       "<div>\n",
       "<style scoped>\n",
       "    .dataframe tbody tr th:only-of-type {\n",
       "        vertical-align: middle;\n",
       "    }\n",
       "\n",
       "    .dataframe tbody tr th {\n",
       "        vertical-align: top;\n",
       "    }\n",
       "\n",
       "    .dataframe thead th {\n",
       "        text-align: right;\n",
       "    }\n",
       "</style>\n",
       "<table border=\"1\" class=\"dataframe\">\n",
       "  <thead>\n",
       "    <tr style=\"text-align: right;\">\n",
       "      <th></th>\n",
       "      <th>delay_days</th>\n",
       "      <th>sub_type</th>\n",
       "      <th>sku_len</th>\n",
       "    </tr>\n",
       "  </thead>\n",
       "  <tbody>\n",
       "    <tr>\n",
       "      <th>25307</th>\n",
       "      <td>0.0</td>\n",
       "      <td>0</td>\n",
       "      <td>1</td>\n",
       "    </tr>\n",
       "    <tr>\n",
       "      <th>12907</th>\n",
       "      <td>-3.0</td>\n",
       "      <td>0</td>\n",
       "      <td>12</td>\n",
       "    </tr>\n",
       "    <tr>\n",
       "      <th>12908</th>\n",
       "      <td>0.0</td>\n",
       "      <td>0</td>\n",
       "      <td>12</td>\n",
       "    </tr>\n",
       "    <tr>\n",
       "      <th>6999</th>\n",
       "      <td>-28.0</td>\n",
       "      <td>0</td>\n",
       "      <td>1</td>\n",
       "    </tr>\n",
       "    <tr>\n",
       "      <th>7000</th>\n",
       "      <td>-59.0</td>\n",
       "      <td>0</td>\n",
       "      <td>1</td>\n",
       "    </tr>\n",
       "  </tbody>\n",
       "</table>\n",
       "</div>"
      ],
      "text/plain": [
       "       delay_days  sub_type  sku_len\n",
       "25307         0.0         0        1\n",
       "12907        -3.0         0       12\n",
       "12908         0.0         0       12\n",
       "6999        -28.0         0        1\n",
       "7000        -59.0         0        1"
      ]
     },
     "execution_count": 15,
     "metadata": {},
     "output_type": "execute_result"
    }
   ],
   "source": [
    "X[\"sku_len\"] = X[\"SKU_LENGTH\"].apply(lambda x: int(x.split()[0]))\n",
    "X.drop(columns=\"SKU_LENGTH\", inplace=True)\n",
    "X.head()"
   ]
  },
  {
   "cell_type": "code",
   "execution_count": 20,
   "id": "35b316af",
   "metadata": {},
   "outputs": [
    {
     "data": {
      "text/plain": [
       "DecisionTreeClassifier(max_depth=3)"
      ]
     },
     "execution_count": 20,
     "metadata": {},
     "output_type": "execute_result"
    }
   ],
   "source": [
    "# make tree\n",
    "model = DecisionTreeClassifier(max_depth=3)\n",
    "model"
   ]
  },
  {
   "cell_type": "code",
   "execution_count": 21,
   "id": "836c1eb4",
   "metadata": {},
   "outputs": [
    {
     "data": {
      "text/plain": [
       "DecisionTreeClassifier(max_depth=3)"
      ]
     },
     "execution_count": 21,
     "metadata": {},
     "output_type": "execute_result"
    }
   ],
   "source": [
    "model.fit(X, y)"
   ]
  },
  {
   "cell_type": "code",
   "execution_count": 22,
   "id": "5bde476f",
   "metadata": {},
   "outputs": [
    {
     "data": {
      "image/svg+xml": [
       "<?xml version=\"1.0\" encoding=\"UTF-8\" standalone=\"no\"?>\n",
       "<!DOCTYPE svg PUBLIC \"-//W3C//DTD SVG 1.1//EN\"\n",
       " \"http://www.w3.org/Graphics/SVG/1.1/DTD/svg11.dtd\">\n",
       "<!-- Generated by graphviz version 2.43.0 (0)\n",
       " -->\n",
       "<!-- Title: Tree Pages: 1 -->\n",
       "<svg width=\"1283pt\" height=\"433pt\"\n",
       " viewBox=\"0.00 0.00 1282.50 433.00\" xmlns=\"http://www.w3.org/2000/svg\" xmlns:xlink=\"http://www.w3.org/1999/xlink\">\n",
       "<g id=\"graph0\" class=\"graph\" transform=\"scale(1 1) rotate(0) translate(4 429)\">\n",
       "<title>Tree</title>\n",
       "<polygon fill=\"white\" stroke=\"transparent\" points=\"-4,4 -4,-429 1278.5,-429 1278.5,4 -4,4\"/>\n",
       "<!-- 0 -->\n",
       "<g id=\"node1\" class=\"node\">\n",
       "<title>0</title>\n",
       "<path fill=\"#57ace9\" stroke=\"black\" d=\"M702,-425C702,-425 550,-425 550,-425 544,-425 538,-419 538,-413 538,-413 538,-354 538,-354 538,-348 544,-342 550,-342 550,-342 702,-342 702,-342 708,-342 714,-348 714,-354 714,-354 714,-413 714,-413 714,-419 708,-425 702,-425\"/>\n",
       "<text text-anchor=\"start\" x=\"558\" y=\"-409.8\" font-family=\"Helvetica,sans-Serif\" font-size=\"14.00\">delay_days ≤ &#45;14.5</text>\n",
       "<text text-anchor=\"start\" x=\"582\" y=\"-394.8\" font-family=\"Helvetica,sans-Serif\" font-size=\"14.00\">gini = 0.226</text>\n",
       "<text text-anchor=\"start\" x=\"564\" y=\"-379.8\" font-family=\"Helvetica,sans-Serif\" font-size=\"14.00\">samples = 18143</text>\n",
       "<text text-anchor=\"start\" x=\"546\" y=\"-364.8\" font-family=\"Helvetica,sans-Serif\" font-size=\"14.00\">value = [2358, 15785]</text>\n",
       "<text text-anchor=\"start\" x=\"569\" y=\"-349.8\" font-family=\"Helvetica,sans-Serif\" font-size=\"14.00\">class = Renewal</text>\n",
       "</g>\n",
       "<!-- 1 -->\n",
       "<g id=\"node2\" class=\"node\">\n",
       "<title>1</title>\n",
       "<path fill=\"#e88f4f\" stroke=\"black\" d=\"M534,-306C534,-306 400,-306 400,-306 394,-306 388,-300 388,-294 388,-294 388,-235 388,-235 388,-229 394,-223 400,-223 400,-223 534,-223 534,-223 540,-223 546,-229 546,-235 546,-235 546,-294 546,-294 546,-300 540,-306 534,-306\"/>\n",
       "<text text-anchor=\"start\" x=\"399\" y=\"-290.8\" font-family=\"Helvetica,sans-Serif\" font-size=\"14.00\">delay_days ≤ &#45;26.5</text>\n",
       "<text text-anchor=\"start\" x=\"423\" y=\"-275.8\" font-family=\"Helvetica,sans-Serif\" font-size=\"14.00\">gini = 0.177</text>\n",
       "<text text-anchor=\"start\" x=\"409.5\" y=\"-260.8\" font-family=\"Helvetica,sans-Serif\" font-size=\"14.00\">samples = 2190</text>\n",
       "<text text-anchor=\"start\" x=\"396\" y=\"-245.8\" font-family=\"Helvetica,sans-Serif\" font-size=\"14.00\">value = [1975, 215]</text>\n",
       "<text text-anchor=\"start\" x=\"412\" y=\"-230.8\" font-family=\"Helvetica,sans-Serif\" font-size=\"14.00\">class = Reclaim</text>\n",
       "</g>\n",
       "<!-- 0&#45;&gt;1 -->\n",
       "<g id=\"edge1\" class=\"edge\">\n",
       "<title>0&#45;&gt;1</title>\n",
       "<path fill=\"none\" stroke=\"black\" d=\"M570.84,-341.91C557.76,-332.29 543.72,-321.95 530.32,-312.09\"/>\n",
       "<polygon fill=\"black\" stroke=\"black\" points=\"532.2,-309.13 522.07,-306.02 528.05,-314.77 532.2,-309.13\"/>\n",
       "<text text-anchor=\"middle\" x=\"525.83\" y=\"-327.04\" font-family=\"Helvetica,sans-Serif\" font-size=\"14.00\">True</text>\n",
       "</g>\n",
       "<!-- 8 -->\n",
       "<g id=\"node9\" class=\"node\">\n",
       "<title>8</title>\n",
       "<path fill=\"#3e9fe6\" stroke=\"black\" d=\"M864.5,-306C864.5,-306 721.5,-306 721.5,-306 715.5,-306 709.5,-300 709.5,-294 709.5,-294 709.5,-235 709.5,-235 709.5,-229 715.5,-223 721.5,-223 721.5,-223 864.5,-223 864.5,-223 870.5,-223 876.5,-229 876.5,-235 876.5,-235 876.5,-294 876.5,-294 876.5,-300 870.5,-306 864.5,-306\"/>\n",
       "<text text-anchor=\"start\" x=\"729.5\" y=\"-290.8\" font-family=\"Helvetica,sans-Serif\" font-size=\"14.00\">delay_days ≤ &#45;4.5</text>\n",
       "<text text-anchor=\"start\" x=\"749\" y=\"-275.8\" font-family=\"Helvetica,sans-Serif\" font-size=\"14.00\">gini = 0.047</text>\n",
       "<text text-anchor=\"start\" x=\"731\" y=\"-260.8\" font-family=\"Helvetica,sans-Serif\" font-size=\"14.00\">samples = 15953</text>\n",
       "<text text-anchor=\"start\" x=\"717.5\" y=\"-245.8\" font-family=\"Helvetica,sans-Serif\" font-size=\"14.00\">value = [383, 15570]</text>\n",
       "<text text-anchor=\"start\" x=\"736\" y=\"-230.8\" font-family=\"Helvetica,sans-Serif\" font-size=\"14.00\">class = Renewal</text>\n",
       "</g>\n",
       "<!-- 0&#45;&gt;8 -->\n",
       "<g id=\"edge8\" class=\"edge\">\n",
       "<title>0&#45;&gt;8</title>\n",
       "<path fill=\"none\" stroke=\"black\" d=\"M683.94,-341.91C697.8,-332.2 712.7,-321.76 726.9,-311.81\"/>\n",
       "<polygon fill=\"black\" stroke=\"black\" points=\"728.98,-314.63 735.16,-306.02 724.96,-308.89 728.98,-314.63\"/>\n",
       "<text text-anchor=\"middle\" x=\"730.83\" y=\"-326.94\" font-family=\"Helvetica,sans-Serif\" font-size=\"14.00\">False</text>\n",
       "</g>\n",
       "<!-- 2 -->\n",
       "<g id=\"node3\" class=\"node\">\n",
       "<title>2</title>\n",
       "<path fill=\"#e5833c\" stroke=\"black\" d=\"M292,-187C292,-187 164,-187 164,-187 158,-187 152,-181 152,-175 152,-175 152,-116 152,-116 152,-110 158,-104 164,-104 164,-104 292,-104 292,-104 298,-104 304,-110 304,-116 304,-116 304,-175 304,-175 304,-181 298,-187 292,-187\"/>\n",
       "<text text-anchor=\"start\" x=\"160\" y=\"-171.8\" font-family=\"Helvetica,sans-Serif\" font-size=\"14.00\">delay_days ≤ &#45;30.5</text>\n",
       "<text text-anchor=\"start\" x=\"184\" y=\"-156.8\" font-family=\"Helvetica,sans-Serif\" font-size=\"14.00\">gini = 0.027</text>\n",
       "<text text-anchor=\"start\" x=\"170.5\" y=\"-141.8\" font-family=\"Helvetica,sans-Serif\" font-size=\"14.00\">samples = 1654</text>\n",
       "<text text-anchor=\"start\" x=\"161.5\" y=\"-126.8\" font-family=\"Helvetica,sans-Serif\" font-size=\"14.00\">value = [1631, 23]</text>\n",
       "<text text-anchor=\"start\" x=\"173\" y=\"-111.8\" font-family=\"Helvetica,sans-Serif\" font-size=\"14.00\">class = Reclaim</text>\n",
       "</g>\n",
       "<!-- 1&#45;&gt;2 -->\n",
       "<g id=\"edge2\" class=\"edge\">\n",
       "<title>1&#45;&gt;2</title>\n",
       "<path fill=\"none\" stroke=\"black\" d=\"M387.75,-224.7C363.89,-213.02 337.61,-200.16 313.38,-188.3\"/>\n",
       "<polygon fill=\"black\" stroke=\"black\" points=\"314.72,-185.05 304.2,-183.8 311.64,-191.34 314.72,-185.05\"/>\n",
       "</g>\n",
       "<!-- 5 -->\n",
       "<g id=\"node6\" class=\"node\">\n",
       "<title>5</title>\n",
       "<path fill=\"#f4c7a8\" stroke=\"black\" d=\"M531,-187C531,-187 403,-187 403,-187 397,-187 391,-181 391,-175 391,-175 391,-116 391,-116 391,-110 397,-104 403,-104 403,-104 531,-104 531,-104 537,-104 543,-110 543,-116 543,-116 543,-175 543,-175 543,-181 537,-187 531,-187\"/>\n",
       "<text text-anchor=\"start\" x=\"399\" y=\"-171.8\" font-family=\"Helvetica,sans-Serif\" font-size=\"14.00\">delay_days ≤ &#45;20.5</text>\n",
       "<text text-anchor=\"start\" x=\"427.5\" y=\"-156.8\" font-family=\"Helvetica,sans-Serif\" font-size=\"14.00\">gini = 0.46</text>\n",
       "<text text-anchor=\"start\" x=\"414\" y=\"-141.8\" font-family=\"Helvetica,sans-Serif\" font-size=\"14.00\">samples = 536</text>\n",
       "<text text-anchor=\"start\" x=\"400.5\" y=\"-126.8\" font-family=\"Helvetica,sans-Serif\" font-size=\"14.00\">value = [344, 192]</text>\n",
       "<text text-anchor=\"start\" x=\"412\" y=\"-111.8\" font-family=\"Helvetica,sans-Serif\" font-size=\"14.00\">class = Reclaim</text>\n",
       "</g>\n",
       "<!-- 1&#45;&gt;5 -->\n",
       "<g id=\"edge5\" class=\"edge\">\n",
       "<title>1&#45;&gt;5</title>\n",
       "<path fill=\"none\" stroke=\"black\" d=\"M467,-222.91C467,-214.65 467,-205.86 467,-197.3\"/>\n",
       "<polygon fill=\"black\" stroke=\"black\" points=\"470.5,-197.02 467,-187.02 463.5,-197.02 470.5,-197.02\"/>\n",
       "</g>\n",
       "<!-- 3 -->\n",
       "<g id=\"node4\" class=\"node\">\n",
       "<title>3</title>\n",
       "<path fill=\"#e5823a\" stroke=\"black\" d=\"M128,-68C128,-68 12,-68 12,-68 6,-68 0,-62 0,-56 0,-56 0,-12 0,-12 0,-6 6,0 12,0 12,0 128,0 128,0 134,0 140,-6 140,-12 140,-12 140,-56 140,-56 140,-62 134,-68 128,-68\"/>\n",
       "<text text-anchor=\"start\" x=\"26\" y=\"-52.8\" font-family=\"Helvetica,sans-Serif\" font-size=\"14.00\">gini = 0.011</text>\n",
       "<text text-anchor=\"start\" x=\"12.5\" y=\"-37.8\" font-family=\"Helvetica,sans-Serif\" font-size=\"14.00\">samples = 1508</text>\n",
       "<text text-anchor=\"start\" x=\"8\" y=\"-22.8\" font-family=\"Helvetica,sans-Serif\" font-size=\"14.00\">value = [1500, 8]</text>\n",
       "<text text-anchor=\"start\" x=\"15\" y=\"-7.8\" font-family=\"Helvetica,sans-Serif\" font-size=\"14.00\">class = Reclaim</text>\n",
       "</g>\n",
       "<!-- 2&#45;&gt;3 -->\n",
       "<g id=\"edge3\" class=\"edge\">\n",
       "<title>2&#45;&gt;3</title>\n",
       "<path fill=\"none\" stroke=\"black\" d=\"M169.17,-103.73C155.14,-94.01 140.21,-83.66 126.31,-74.02\"/>\n",
       "<polygon fill=\"black\" stroke=\"black\" points=\"128.01,-70.94 117.8,-68.13 124.02,-76.7 128.01,-70.94\"/>\n",
       "</g>\n",
       "<!-- 4 -->\n",
       "<g id=\"node5\" class=\"node\">\n",
       "<title>4</title>\n",
       "<path fill=\"#e88f50\" stroke=\"black\" d=\"M286,-68C286,-68 170,-68 170,-68 164,-68 158,-62 158,-56 158,-56 158,-12 158,-12 158,-6 164,0 170,0 170,0 286,0 286,0 292,0 298,-6 298,-12 298,-12 298,-56 298,-56 298,-62 292,-68 286,-68\"/>\n",
       "<text text-anchor=\"start\" x=\"184\" y=\"-52.8\" font-family=\"Helvetica,sans-Serif\" font-size=\"14.00\">gini = 0.184</text>\n",
       "<text text-anchor=\"start\" x=\"175\" y=\"-37.8\" font-family=\"Helvetica,sans-Serif\" font-size=\"14.00\">samples = 146</text>\n",
       "<text text-anchor=\"start\" x=\"166\" y=\"-22.8\" font-family=\"Helvetica,sans-Serif\" font-size=\"14.00\">value = [131, 15]</text>\n",
       "<text text-anchor=\"start\" x=\"173\" y=\"-7.8\" font-family=\"Helvetica,sans-Serif\" font-size=\"14.00\">class = Reclaim</text>\n",
       "</g>\n",
       "<!-- 2&#45;&gt;4 -->\n",
       "<g id=\"edge4\" class=\"edge\">\n",
       "<title>2&#45;&gt;4</title>\n",
       "<path fill=\"none\" stroke=\"black\" d=\"M228,-103.73C228,-95.52 228,-86.86 228,-78.56\"/>\n",
       "<polygon fill=\"black\" stroke=\"black\" points=\"231.5,-78.3 228,-68.3 224.5,-78.3 231.5,-78.3\"/>\n",
       "</g>\n",
       "<!-- 6 -->\n",
       "<g id=\"node7\" class=\"node\">\n",
       "<title>6</title>\n",
       "<path fill=\"#eda978\" stroke=\"black\" d=\"M444,-68C444,-68 328,-68 328,-68 322,-68 316,-62 316,-56 316,-56 316,-12 316,-12 316,-6 322,0 328,0 328,0 444,0 444,0 450,0 456,-6 456,-12 456,-12 456,-56 456,-56 456,-62 450,-68 444,-68\"/>\n",
       "<text text-anchor=\"start\" x=\"342\" y=\"-52.8\" font-family=\"Helvetica,sans-Serif\" font-size=\"14.00\">gini = 0.365</text>\n",
       "<text text-anchor=\"start\" x=\"333\" y=\"-37.8\" font-family=\"Helvetica,sans-Serif\" font-size=\"14.00\">samples = 233</text>\n",
       "<text text-anchor=\"start\" x=\"324\" y=\"-22.8\" font-family=\"Helvetica,sans-Serif\" font-size=\"14.00\">value = [177, 56]</text>\n",
       "<text text-anchor=\"start\" x=\"331\" y=\"-7.8\" font-family=\"Helvetica,sans-Serif\" font-size=\"14.00\">class = Reclaim</text>\n",
       "</g>\n",
       "<!-- 5&#45;&gt;6 -->\n",
       "<g id=\"edge6\" class=\"edge\">\n",
       "<title>5&#45;&gt;6</title>\n",
       "<path fill=\"none\" stroke=\"black\" d=\"M436.84,-103.73C430.23,-94.79 423.22,-85.32 416.59,-76.36\"/>\n",
       "<polygon fill=\"black\" stroke=\"black\" points=\"419.39,-74.26 410.63,-68.3 413.77,-78.42 419.39,-74.26\"/>\n",
       "</g>\n",
       "<!-- 7 -->\n",
       "<g id=\"node8\" class=\"node\">\n",
       "<title>7</title>\n",
       "<path fill=\"#fae8da\" stroke=\"black\" d=\"M611.5,-68C611.5,-68 486.5,-68 486.5,-68 480.5,-68 474.5,-62 474.5,-56 474.5,-56 474.5,-12 474.5,-12 474.5,-6 480.5,0 486.5,0 486.5,0 611.5,0 611.5,0 617.5,0 623.5,-6 623.5,-12 623.5,-12 623.5,-56 623.5,-56 623.5,-62 617.5,-68 611.5,-68\"/>\n",
       "<text text-anchor=\"start\" x=\"505\" y=\"-52.8\" font-family=\"Helvetica,sans-Serif\" font-size=\"14.00\">gini = 0.495</text>\n",
       "<text text-anchor=\"start\" x=\"496\" y=\"-37.8\" font-family=\"Helvetica,sans-Serif\" font-size=\"14.00\">samples = 303</text>\n",
       "<text text-anchor=\"start\" x=\"482.5\" y=\"-22.8\" font-family=\"Helvetica,sans-Serif\" font-size=\"14.00\">value = [167, 136]</text>\n",
       "<text text-anchor=\"start\" x=\"494\" y=\"-7.8\" font-family=\"Helvetica,sans-Serif\" font-size=\"14.00\">class = Reclaim</text>\n",
       "</g>\n",
       "<!-- 5&#45;&gt;7 -->\n",
       "<g id=\"edge7\" class=\"edge\">\n",
       "<title>5&#45;&gt;7</title>\n",
       "<path fill=\"none\" stroke=\"black\" d=\"M497.53,-103.73C504.23,-94.79 511.32,-85.32 518.03,-76.36\"/>\n",
       "<polygon fill=\"black\" stroke=\"black\" points=\"520.87,-78.4 524.06,-68.3 515.27,-74.21 520.87,-78.4\"/>\n",
       "</g>\n",
       "<!-- 9 -->\n",
       "<g id=\"node10\" class=\"node\">\n",
       "<title>9</title>\n",
       "<path fill=\"#8cc6f0\" stroke=\"black\" d=\"M855.5,-187C855.5,-187 730.5,-187 730.5,-187 724.5,-187 718.5,-181 718.5,-175 718.5,-175 718.5,-116 718.5,-116 718.5,-110 724.5,-104 730.5,-104 730.5,-104 855.5,-104 855.5,-104 861.5,-104 867.5,-110 867.5,-116 867.5,-116 867.5,-175 867.5,-175 867.5,-181 861.5,-187 855.5,-187\"/>\n",
       "<text text-anchor=\"start\" x=\"729.5\" y=\"-171.8\" font-family=\"Helvetica,sans-Serif\" font-size=\"14.00\">delay_days ≤ &#45;8.5</text>\n",
       "<text text-anchor=\"start\" x=\"749\" y=\"-156.8\" font-family=\"Helvetica,sans-Serif\" font-size=\"14.00\">gini = 0.415</text>\n",
       "<text text-anchor=\"start\" x=\"740\" y=\"-141.8\" font-family=\"Helvetica,sans-Serif\" font-size=\"14.00\">samples = 873</text>\n",
       "<text text-anchor=\"start\" x=\"726.5\" y=\"-126.8\" font-family=\"Helvetica,sans-Serif\" font-size=\"14.00\">value = [257, 616]</text>\n",
       "<text text-anchor=\"start\" x=\"736\" y=\"-111.8\" font-family=\"Helvetica,sans-Serif\" font-size=\"14.00\">class = Renewal</text>\n",
       "</g>\n",
       "<!-- 8&#45;&gt;9 -->\n",
       "<g id=\"edge9\" class=\"edge\">\n",
       "<title>8&#45;&gt;9</title>\n",
       "<path fill=\"none\" stroke=\"black\" d=\"M793,-222.91C793,-214.65 793,-205.86 793,-197.3\"/>\n",
       "<polygon fill=\"black\" stroke=\"black\" points=\"796.5,-197.02 793,-187.02 789.5,-197.02 796.5,-197.02\"/>\n",
       "</g>\n",
       "<!-- 12 -->\n",
       "<g id=\"node13\" class=\"node\">\n",
       "<title>12</title>\n",
       "<path fill=\"#3b9ee5\" stroke=\"black\" d=\"M1117.5,-187C1117.5,-187 974.5,-187 974.5,-187 968.5,-187 962.5,-181 962.5,-175 962.5,-175 962.5,-116 962.5,-116 962.5,-110 968.5,-104 974.5,-104 974.5,-104 1117.5,-104 1117.5,-104 1123.5,-104 1129.5,-110 1129.5,-116 1129.5,-116 1129.5,-175 1129.5,-175 1129.5,-181 1123.5,-187 1117.5,-187\"/>\n",
       "<text text-anchor=\"start\" x=\"985.5\" y=\"-171.8\" font-family=\"Helvetica,sans-Serif\" font-size=\"14.00\">delay_days ≤ 5.0</text>\n",
       "<text text-anchor=\"start\" x=\"1002\" y=\"-156.8\" font-family=\"Helvetica,sans-Serif\" font-size=\"14.00\">gini = 0.017</text>\n",
       "<text text-anchor=\"start\" x=\"984\" y=\"-141.8\" font-family=\"Helvetica,sans-Serif\" font-size=\"14.00\">samples = 15080</text>\n",
       "<text text-anchor=\"start\" x=\"970.5\" y=\"-126.8\" font-family=\"Helvetica,sans-Serif\" font-size=\"14.00\">value = [126, 14954]</text>\n",
       "<text text-anchor=\"start\" x=\"989\" y=\"-111.8\" font-family=\"Helvetica,sans-Serif\" font-size=\"14.00\">class = Renewal</text>\n",
       "</g>\n",
       "<!-- 8&#45;&gt;12 -->\n",
       "<g id=\"edge12\" class=\"edge\">\n",
       "<title>8&#45;&gt;12</title>\n",
       "<path fill=\"none\" stroke=\"black\" d=\"M876.54,-224.87C901.03,-213.54 927.95,-201.09 952.98,-189.52\"/>\n",
       "<polygon fill=\"black\" stroke=\"black\" points=\"954.51,-192.67 962.11,-185.29 951.57,-186.31 954.51,-192.67\"/>\n",
       "</g>\n",
       "<!-- 10 -->\n",
       "<g id=\"node11\" class=\"node\">\n",
       "<title>10</title>\n",
       "<path fill=\"#afd8f5\" stroke=\"black\" d=\"M778.5,-68C778.5,-68 653.5,-68 653.5,-68 647.5,-68 641.5,-62 641.5,-56 641.5,-56 641.5,-12 641.5,-12 641.5,-6 647.5,0 653.5,0 653.5,0 778.5,0 778.5,0 784.5,0 790.5,-6 790.5,-12 790.5,-12 790.5,-56 790.5,-56 790.5,-62 784.5,-68 778.5,-68\"/>\n",
       "<text text-anchor=\"start\" x=\"672\" y=\"-52.8\" font-family=\"Helvetica,sans-Serif\" font-size=\"14.00\">gini = 0.468</text>\n",
       "<text text-anchor=\"start\" x=\"663\" y=\"-37.8\" font-family=\"Helvetica,sans-Serif\" font-size=\"14.00\">samples = 422</text>\n",
       "<text text-anchor=\"start\" x=\"649.5\" y=\"-22.8\" font-family=\"Helvetica,sans-Serif\" font-size=\"14.00\">value = [158, 264]</text>\n",
       "<text text-anchor=\"start\" x=\"659\" y=\"-7.8\" font-family=\"Helvetica,sans-Serif\" font-size=\"14.00\">class = Renewal</text>\n",
       "</g>\n",
       "<!-- 9&#45;&gt;10 -->\n",
       "<g id=\"edge10\" class=\"edge\">\n",
       "<title>9&#45;&gt;10</title>\n",
       "<path fill=\"none\" stroke=\"black\" d=\"M764.33,-103.73C758.11,-94.88 751.52,-85.51 745.27,-76.63\"/>\n",
       "<polygon fill=\"black\" stroke=\"black\" points=\"748.03,-74.47 739.42,-68.3 742.31,-78.49 748.03,-74.47\"/>\n",
       "</g>\n",
       "<!-- 11 -->\n",
       "<g id=\"node12\" class=\"node\">\n",
       "<title>11</title>\n",
       "<path fill=\"#71b9ec\" stroke=\"black\" d=\"M937,-68C937,-68 821,-68 821,-68 815,-68 809,-62 809,-56 809,-56 809,-12 809,-12 809,-6 815,0 821,0 821,0 937,0 937,0 943,0 949,-6 949,-12 949,-12 949,-56 949,-56 949,-62 943,-68 937,-68\"/>\n",
       "<text text-anchor=\"start\" x=\"835\" y=\"-52.8\" font-family=\"Helvetica,sans-Serif\" font-size=\"14.00\">gini = 0.343</text>\n",
       "<text text-anchor=\"start\" x=\"826\" y=\"-37.8\" font-family=\"Helvetica,sans-Serif\" font-size=\"14.00\">samples = 451</text>\n",
       "<text text-anchor=\"start\" x=\"817\" y=\"-22.8\" font-family=\"Helvetica,sans-Serif\" font-size=\"14.00\">value = [99, 352]</text>\n",
       "<text text-anchor=\"start\" x=\"822\" y=\"-7.8\" font-family=\"Helvetica,sans-Serif\" font-size=\"14.00\">class = Renewal</text>\n",
       "</g>\n",
       "<!-- 9&#45;&gt;11 -->\n",
       "<g id=\"edge11\" class=\"edge\">\n",
       "<title>9&#45;&gt;11</title>\n",
       "<path fill=\"none\" stroke=\"black\" d=\"M825.02,-103.73C832.04,-94.79 839.48,-85.32 846.52,-76.36\"/>\n",
       "<polygon fill=\"black\" stroke=\"black\" points=\"849.42,-78.33 852.85,-68.3 843.92,-74 849.42,-78.33\"/>\n",
       "</g>\n",
       "<!-- 13 -->\n",
       "<g id=\"node14\" class=\"node\">\n",
       "<title>13</title>\n",
       "<path fill=\"#3a9de5\" stroke=\"black\" d=\"M1113,-68C1113,-68 979,-68 979,-68 973,-68 967,-62 967,-56 967,-56 967,-12 967,-12 967,-6 973,0 979,0 979,0 1113,0 1113,0 1119,0 1125,-6 1125,-12 1125,-12 1125,-56 1125,-56 1125,-62 1119,-68 1113,-68\"/>\n",
       "<text text-anchor=\"start\" x=\"1002\" y=\"-52.8\" font-family=\"Helvetica,sans-Serif\" font-size=\"14.00\">gini = 0.008</text>\n",
       "<text text-anchor=\"start\" x=\"984\" y=\"-37.8\" font-family=\"Helvetica,sans-Serif\" font-size=\"14.00\">samples = 14953</text>\n",
       "<text text-anchor=\"start\" x=\"975\" y=\"-22.8\" font-family=\"Helvetica,sans-Serif\" font-size=\"14.00\">value = [58, 14895]</text>\n",
       "<text text-anchor=\"start\" x=\"989\" y=\"-7.8\" font-family=\"Helvetica,sans-Serif\" font-size=\"14.00\">class = Renewal</text>\n",
       "</g>\n",
       "<!-- 12&#45;&gt;13 -->\n",
       "<g id=\"edge13\" class=\"edge\">\n",
       "<title>12&#45;&gt;13</title>\n",
       "<path fill=\"none\" stroke=\"black\" d=\"M1046,-103.73C1046,-95.52 1046,-86.86 1046,-78.56\"/>\n",
       "<polygon fill=\"black\" stroke=\"black\" points=\"1049.5,-78.3 1046,-68.3 1042.5,-78.3 1049.5,-78.3\"/>\n",
       "</g>\n",
       "<!-- 14 -->\n",
       "<g id=\"node15\" class=\"node\">\n",
       "<title>14</title>\n",
       "<path fill=\"#fceee5\" stroke=\"black\" d=\"M1262.5,-68C1262.5,-68 1155.5,-68 1155.5,-68 1149.5,-68 1143.5,-62 1143.5,-56 1143.5,-56 1143.5,-12 1143.5,-12 1143.5,-6 1149.5,0 1155.5,0 1155.5,0 1262.5,0 1262.5,0 1268.5,0 1274.5,-6 1274.5,-12 1274.5,-12 1274.5,-56 1274.5,-56 1274.5,-62 1268.5,-68 1262.5,-68\"/>\n",
       "<text text-anchor=\"start\" x=\"1165\" y=\"-52.8\" font-family=\"Helvetica,sans-Serif\" font-size=\"14.00\">gini = 0.497</text>\n",
       "<text text-anchor=\"start\" x=\"1156\" y=\"-37.8\" font-family=\"Helvetica,sans-Serif\" font-size=\"14.00\">samples = 127</text>\n",
       "<text text-anchor=\"start\" x=\"1151.5\" y=\"-22.8\" font-family=\"Helvetica,sans-Serif\" font-size=\"14.00\">value = [68, 59]</text>\n",
       "<text text-anchor=\"start\" x=\"1154\" y=\"-7.8\" font-family=\"Helvetica,sans-Serif\" font-size=\"14.00\">class = Reclaim</text>\n",
       "</g>\n",
       "<!-- 12&#45;&gt;14 -->\n",
       "<g id=\"edge14\" class=\"edge\">\n",
       "<title>12&#45;&gt;14</title>\n",
       "<path fill=\"none\" stroke=\"black\" d=\"M1106.7,-103.73C1121.3,-93.92 1136.86,-83.46 1151.32,-73.75\"/>\n",
       "<polygon fill=\"black\" stroke=\"black\" points=\"1153.34,-76.61 1159.69,-68.13 1149.44,-70.8 1153.34,-76.61\"/>\n",
       "</g>\n",
       "</g>\n",
       "</svg>\n"
      ],
      "text/plain": [
       "<graphviz.sources.Source at 0x7fd4912656d0>"
      ]
     },
     "execution_count": 22,
     "metadata": {},
     "output_type": "execute_result"
    }
   ],
   "source": [
    "dot_data = export_graphviz(model, \n",
    "                  feature_names=[\"delay_days\", \"sub_type\", \"sku_len\"],  \n",
    "                  class_names=[\"Reclaim\", \"Renewal\"],  \n",
    "                  filled=True, rounded=True,  \n",
    "                  special_characters=True,\n",
    "                   out_file=None,\n",
    "                           )\n",
    "graph = graphviz.Source(dot_data)\n",
    "graph"
   ]
  },
  {
   "cell_type": "code",
   "execution_count": 23,
   "id": "f01823a7",
   "metadata": {},
   "outputs": [],
   "source": [
    "# This is not what I need. I needed the tree to help me find another criteria than the delay."
   ]
  }
 ],
 "metadata": {
  "kernelspec": {
   "display_name": "Python 3 (ipykernel)",
   "language": "python",
   "name": "python3"
  },
  "language_info": {
   "codemirror_mode": {
    "name": "ipython",
    "version": 3
   },
   "file_extension": ".py",
   "mimetype": "text/x-python",
   "name": "python",
   "nbconvert_exporter": "python",
   "pygments_lexer": "ipython3",
   "version": "3.8.12"
  },
  "toc": {
   "base_numbering": 1,
   "nav_menu": {},
   "number_sections": true,
   "sideBar": true,
   "skip_h1_title": false,
   "title_cell": "Table of Contents",
   "title_sidebar": "Contents",
   "toc_cell": false,
   "toc_position": {},
   "toc_section_display": true,
   "toc_window_display": false
  },
  "varInspector": {
   "cols": {
    "lenName": 16,
    "lenType": 16,
    "lenVar": 40
   },
   "kernels_config": {
    "python": {
     "delete_cmd_postfix": "",
     "delete_cmd_prefix": "del ",
     "library": "var_list.py",
     "varRefreshCmd": "print(var_dic_list())"
    },
    "r": {
     "delete_cmd_postfix": ") ",
     "delete_cmd_prefix": "rm(",
     "library": "var_list.r",
     "varRefreshCmd": "cat(var_dic_list()) "
    }
   },
   "types_to_exclude": [
    "module",
    "function",
    "builtin_function_or_method",
    "instance",
    "_Feature"
   ],
   "window_display": false
  }
 },
 "nbformat": 4,
 "nbformat_minor": 5
}
